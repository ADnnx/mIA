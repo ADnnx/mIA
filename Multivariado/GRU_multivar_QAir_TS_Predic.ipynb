{
  "nbformat": 4,
  "nbformat_minor": 0,
  "metadata": {
    "anaconda-cloud": {},
    "kernelspec": {
      "display_name": "Python 3",
      "language": "python",
      "name": "python3"
    },
    "language_info": {
      "codemirror_mode": {
        "name": "ipython",
        "version": 3
      },
      "file_extension": ".py",
      "mimetype": "text/x-python",
      "name": "python",
      "nbconvert_exporter": "python",
      "pygments_lexer": "ipython3",
      "version": "3.7.7"
    },
    "colab": {
      "name": "GRU multivar_QAir_TS_Predic.ipynb",
      "provenance": [],
      "collapsed_sections": [
        "3s1Il1l-wRDA",
        "ybJGePSbwRDB"
      ],
      "include_colab_link": true
    },
    "accelerator": "GPU"
  },
  "cells": [
    {
      "cell_type": "markdown",
      "metadata": {
        "id": "view-in-github",
        "colab_type": "text"
      },
      "source": [
        "<a href=\"https://colab.research.google.com/github/ADnnx/mIA/blob/master/Multivariado/GRU_multivar_QAir_TS_Predic.ipynb\" target=\"_parent\"><img src=\"https://colab.research.google.com/assets/colab-badge.svg\" alt=\"Open In Colab\"/></a>"
      ]
    },
    {
      "cell_type": "markdown",
      "metadata": {
        "id": "iQQxdpaVjlhi"
      },
      "source": [
        "## TFM: \n",
        "Predicción de la calidad del aire en Medellín (Colombia) usando Inteligencia Artificial sobre datos abiertos \n",
        "\n",
        ": Álvaro Bedoya \\\n",
        "UNIR\n"
      ]
    },
    {
      "cell_type": "markdown",
      "metadata": {
        "id": "6kSCDWlhwQ-_"
      },
      "source": [
        "## Importación de librerias"
      ]
    },
    {
      "cell_type": "code",
      "metadata": {
        "id": "hrRsNAi8wQ_A"
      },
      "source": [
        "%matplotlib inline\n",
        "import matplotlib.pyplot as plt\n",
        "import tensorflow as tf\n",
        "import numpy as np\n",
        "import pandas as pd\n",
        "import os\n",
        "from sklearn.preprocessing import MinMaxScaler\n",
        "from tensorflow.keras.models import Sequential\n",
        "from tensorflow.keras.layers import Dense, GRU, Input, Embedding\n",
        "from tensorflow.keras.optimizers import RMSprop\n",
        "from tensorflow.keras.callbacks import EarlyStopping, ModelCheckpoint, TensorBoard, ReduceLROnPlateau\n",
        "from tensorflow.keras.backend import square, mean \n"
      ],
      "execution_count": null,
      "outputs": []
    },
    {
      "cell_type": "markdown",
      "metadata": {
        "id": "3zitcwMuwQ_R"
      },
      "source": [
        "## Cargue de datos\n",
        "\n"
      ]
    },
    {
      "cell_type": "code",
      "metadata": {
        "id": "Ov__-99VwQ_g",
        "outputId": "9cb60d7e-81fb-4388-8094-433db8afe8d2",
        "colab": {
          "base_uri": "https://localhost:8080/",
          "height": 122
        }
      },
      "source": [
        "# Cargar datos \n",
        "# /content/drive/My Drive/ \n",
        "from google.colab import drive\n",
        "drive.mount('/content/drive/')\n",
        "data_dir = \"/content/drive/My Drive/Colab Notebooks/Data/Siata/\"\n",
        "infile=\"multivar_estacion-25_2016-2019.csv\"\n",
        "df = pd.read_csv(data_dir+infile, header=0, parse_dates=[0], index_col=0)\n",
        "# Guardar una copia para comparaciones\n",
        "df_org = df.copy()"
      ],
      "execution_count": null,
      "outputs": [
        {
          "output_type": "stream",
          "text": [
            "Go to this URL in a browser: https://accounts.google.com/o/oauth2/auth?client_id=947318989803-6bn6qk8qdgf4n4g3pfee6491hc0brc4i.apps.googleusercontent.com&redirect_uri=urn%3aietf%3awg%3aoauth%3a2.0%3aoob&scope=email%20https%3a%2f%2fwww.googleapis.com%2fauth%2fdocs.test%20https%3a%2f%2fwww.googleapis.com%2fauth%2fdrive%20https%3a%2f%2fwww.googleapis.com%2fauth%2fdrive.photos.readonly%20https%3a%2f%2fwww.googleapis.com%2fauth%2fpeopleapi.readonly&response_type=code\n",
            "\n",
            "Enter your authorization code:\n",
            "··········\n",
            "Mounted at /content/drive/\n"
          ],
          "name": "stdout"
        }
      ]
    },
    {
      "cell_type": "markdown",
      "metadata": {
        "id": "ueCdpypswQ_l"
      },
      "source": [
        "Caractristicas del conjunto de datos, señales registradas de contaminantes"
      ]
    },
    {
      "cell_type": "code",
      "metadata": {
        "id": "ZlS1i8I3wQ_m",
        "outputId": "bbbe1d51-175a-49e1-e4c1-42ddcd619078",
        "colab": {
          "base_uri": "https://localhost:8080/",
          "height": 235
        }
      },
      "source": [
        "df.head()"
      ],
      "execution_count": null,
      "outputs": [
        {
          "output_type": "execute_result",
          "data": {
            "text/html": [
              "<div>\n",
              "<style scoped>\n",
              "    .dataframe tbody tr th:only-of-type {\n",
              "        vertical-align: middle;\n",
              "    }\n",
              "\n",
              "    .dataframe tbody tr th {\n",
              "        vertical-align: top;\n",
              "    }\n",
              "\n",
              "    .dataframe thead th {\n",
              "        text-align: right;\n",
              "    }\n",
              "</style>\n",
              "<table border=\"1\" class=\"dataframe\">\n",
              "  <thead>\n",
              "    <tr style=\"text-align: right;\">\n",
              "      <th></th>\n",
              "      <th>PM25</th>\n",
              "      <th>O3</th>\n",
              "      <th>NO</th>\n",
              "      <th>NO2</th>\n",
              "      <th>NOx</th>\n",
              "    </tr>\n",
              "    <tr>\n",
              "      <th>FECHA</th>\n",
              "      <th></th>\n",
              "      <th></th>\n",
              "      <th></th>\n",
              "      <th></th>\n",
              "      <th></th>\n",
              "    </tr>\n",
              "  </thead>\n",
              "  <tbody>\n",
              "    <tr>\n",
              "      <th>2016-01-01 00:00:00</th>\n",
              "      <td>36.0</td>\n",
              "      <td>13.0</td>\n",
              "      <td>2.0</td>\n",
              "      <td>16.0</td>\n",
              "      <td>18.0</td>\n",
              "    </tr>\n",
              "    <tr>\n",
              "      <th>2016-01-01 01:00:00</th>\n",
              "      <td>70.0</td>\n",
              "      <td>13.0</td>\n",
              "      <td>1.0</td>\n",
              "      <td>15.0</td>\n",
              "      <td>16.0</td>\n",
              "    </tr>\n",
              "    <tr>\n",
              "      <th>2016-01-01 02:00:00</th>\n",
              "      <td>53.0</td>\n",
              "      <td>9.0</td>\n",
              "      <td>4.0</td>\n",
              "      <td>18.0</td>\n",
              "      <td>22.0</td>\n",
              "    </tr>\n",
              "    <tr>\n",
              "      <th>2016-01-01 03:00:00</th>\n",
              "      <td>52.0</td>\n",
              "      <td>4.0</td>\n",
              "      <td>10.0</td>\n",
              "      <td>21.0</td>\n",
              "      <td>31.0</td>\n",
              "    </tr>\n",
              "    <tr>\n",
              "      <th>2016-01-01 04:00:00</th>\n",
              "      <td>53.0</td>\n",
              "      <td>2.0</td>\n",
              "      <td>13.0</td>\n",
              "      <td>20.0</td>\n",
              "      <td>34.0</td>\n",
              "    </tr>\n",
              "  </tbody>\n",
              "</table>\n",
              "</div>"
            ],
            "text/plain": [
              "                     PM25    O3    NO   NO2   NOx\n",
              "FECHA                                            \n",
              "2016-01-01 00:00:00  36.0  13.0   2.0  16.0  18.0\n",
              "2016-01-01 01:00:00  70.0  13.0   1.0  15.0  16.0\n",
              "2016-01-01 02:00:00  53.0   9.0   4.0  18.0  22.0\n",
              "2016-01-01 03:00:00  52.0   4.0  10.0  21.0  31.0\n",
              "2016-01-01 04:00:00  53.0   2.0  13.0  20.0  34.0"
            ]
          },
          "metadata": {
            "tags": []
          },
          "execution_count": 13
        }
      ]
    },
    {
      "cell_type": "markdown",
      "metadata": {
        "id": "V7nnxSoCwQ_p"
      },
      "source": [
        "### Previsualización de señales\n",
        "\n",
        "Puede observar \"un valle\" en la series de tiempo de las señal PM2.5 y O3 debido a la imputación de datos en la etapa de  preprocesamiento, al tratar la calidad deficiente del dato."
      ]
    },
    {
      "cell_type": "code",
      "metadata": {
        "id": "mrvMpC2zwQ_p",
        "outputId": "dcd1f84b-7dc3-4d17-fb34-f414487dc2a9",
        "colab": {
          "base_uri": "https://localhost:8080/",
          "height": 279
        }
      },
      "source": [
        "df['PM25'].plot();"
      ],
      "execution_count": null,
      "outputs": [
        {
          "output_type": "display_data",
          "data": {
            "image/png": "[encoded data removed]",
            "text/plain": [
              "<Figure size 432x288 with 1 Axes>"
            ]
          },
          "metadata": {
            "tags": [],
            "needs_background": "light"
          }
        }
      ]
    },
    {
      "cell_type": "code",
      "metadata": {
        "scrolled": true,
        "id": "pELWjDaEwQ_t",
        "outputId": "bbd04ca6-d402-4f3d-ee3d-4a5bf518e6f9",
        "colab": {
          "base_uri": "https://localhost:8080/",
          "height": 279
        }
      },
      "source": [
        "df['O3'].plot();"
      ],
      "execution_count": null,
      "outputs": [
        {
          "output_type": "display_data",
          "data": {
            "image/png": "[encoded data removed]",
            "text/plain": [
              "<Figure size 432x288 with 1 Axes>"
            ]
          },
          "metadata": {
            "tags": [],
            "needs_background": "light"
          }
        }
      ]
    },
    {
      "cell_type": "code",
      "metadata": {
        "id": "_TNRXCkUwQ_2",
        "outputId": "fa2bb654-ec98-4751-e910-3eef3b0d231d",
        "colab": {
          "base_uri": "https://localhost:8080/",
          "height": 34
        }
      },
      "source": [
        "# Cantidad de observaciones de la señal PM2.5\n",
        "df.values.shape"
      ],
      "execution_count": null,
      "outputs": [
        {
          "output_type": "execute_result",
          "data": {
            "text/plain": [
              "(35064, 5)"
            ]
          },
          "metadata": {
            "tags": []
          },
          "execution_count": 18
        }
      ]
    },
    {
      "cell_type": "code",
      "metadata": {
        "id": "ZneArrk1wQ_8",
        "outputId": "60342719-e61e-46b3-d077-9ac6d0ee6c7a",
        "colab": {
          "base_uri": "https://localhost:8080/",
          "height": 314
        }
      },
      "source": [
        "df['PM25']['2016-06':'2016-07'].plot();"
      ],
      "execution_count": null,
      "outputs": [
        {
          "output_type": "display_data",
          "data": {
            "image/png": "[encoded data removed]",
            "text/plain": [
              "<Figure size 432x288 with 1 Axes>"
            ]
          },
          "metadata": {
            "tags": [],
            "needs_background": "light"
          }
        }
      ]
    },
    {
      "cell_type": "markdown",
      "metadata": {
        "id": "ehvptZd3wRAJ"
      },
      "source": [
        "\n",
        "\n",
        "Para conocer la cronologia del registro de la señal en el periodo de un año, se agrega el día del año (de 1 a 365) y la hora del día (de 0 a 23) a las señales de entrada. Ya que el conjunto de datos contiene la información de fecha y hora estampada para cada observación, pero, solo se usa en el índice para ordenar los datos."
      ]
    },
    {
      "cell_type": "code",
      "metadata": {
        "id": "HehdTvudwRAJ"
      },
      "source": [
        "df['Dia'] = df.index.dayofyear\n",
        "df['Hora'] = df.index.hour"
      ],
      "execution_count": null,
      "outputs": []
    },
    {
      "cell_type": "code",
      "metadata": {
        "id": "EO9MwLRIwRAN",
        "outputId": "2e2d3cbd-7ad6-4579-8f10-e1fb8a9f2865",
        "colab": {
          "base_uri": "https://localhost:8080/",
          "height": 272
        }
      },
      "source": [
        "print(df.info())"
      ],
      "execution_count": null,
      "outputs": [
        {
          "output_type": "stream",
          "text": [
            "<class 'pandas.core.frame.DataFrame'>\n",
            "DatetimeIndex: 35064 entries, 2016-01-01 00:00:00 to 2019-12-31 23:00:00\n",
            "Data columns (total 7 columns):\n",
            " #   Column  Non-Null Count  Dtype  \n",
            "---  ------  --------------  -----  \n",
            " 0   PM25    35064 non-null  float64\n",
            " 1   O3      35064 non-null  float64\n",
            " 2   NO      35064 non-null  float64\n",
            " 3   NO2     35064 non-null  float64\n",
            " 4   NOx     35064 non-null  float64\n",
            " 5   Dia     35064 non-null  int64  \n",
            " 6   Hora    35064 non-null  int64  \n",
            "dtypes: float64(5), int64(2)\n",
            "memory usage: 3.4 MB\n",
            "None\n"
          ],
          "name": "stdout"
        }
      ]
    },
    {
      "cell_type": "code",
      "metadata": {
        "id": "M4-v1kuAwRAP",
        "outputId": "237fc449-ef29-43a0-9907-053673ce1610",
        "colab": {
          "base_uri": "https://localhost:8080/",
          "height": 136
        }
      },
      "source": [
        "print(df.head())"
      ],
      "execution_count": null,
      "outputs": [
        {
          "output_type": "stream",
          "text": [
            "                     PM25    O3    NO   NO2   NOx  Dia  Hora\n",
            "FECHA                                                       \n",
            "2016-01-01 00:00:00  36.0  13.0   2.0  16.0  18.0    1     0\n",
            "2016-01-01 01:00:00  70.0  13.0   1.0  15.0  16.0    1     1\n",
            "2016-01-01 02:00:00  53.0   9.0   4.0  18.0  22.0    1     2\n",
            "2016-01-01 03:00:00  52.0   4.0  10.0  21.0  31.0    1     3\n",
            "2016-01-01 04:00:00  53.0   2.0  13.0  20.0  34.0    1     4\n"
          ],
          "name": "stdout"
        }
      ]
    },
    {
      "cell_type": "code",
      "metadata": {
        "id": "n3MThvICwRAS",
        "outputId": "3653d5e1-17e7-4031-cdfb-21b869798d62",
        "colab": {
          "base_uri": "https://localhost:8080/",
          "height": 136
        }
      },
      "source": [
        "print(df.tail())"
      ],
      "execution_count": null,
      "outputs": [
        {
          "output_type": "stream",
          "text": [
            "                     PM25   O3       NO      NO2       NOx  Dia  Hora\n",
            "FECHA                                                                \n",
            "2019-12-31 19:00:00  12.0  0.9  45.4879  21.7711   67.2590  365    19\n",
            "2019-12-31 20:00:00  13.0  1.3  39.1161  20.6367   59.7528  365    20\n",
            "2019-12-31 21:00:00  18.0  1.6  82.3009  21.1742  103.4751  365    21\n",
            "2019-12-31 22:00:00  24.0  1.5  85.3961  19.0080  104.4041  365    22\n",
            "2019-12-31 23:00:00  31.0  1.5  71.2671  13.4446   84.7117  365    23\n"
          ],
          "name": "stdout"
        }
      ]
    },
    {
      "cell_type": "markdown",
      "metadata": {
        "id": "NyaquPaGwRAU"
      },
      "source": [
        "# Objetivo para la predicción\n",
        "\n",
        "Definir la señal objectivo a PM25 para predecir la calidad del aire basado en el contaminante de material particulado de 2.5 micras."
      ]
    },
    {
      "cell_type": "code",
      "metadata": {
        "id": "CC_qTVLfwRAX"
      },
      "source": [
        "predictor_Y = ['PM25']"
      ],
      "execution_count": null,
      "outputs": []
    },
    {
      "cell_type": "markdown",
      "metadata": {
        "id": "93FURy5rwRAa"
      },
      "source": [
        "\n",
        "# Preparar los periodos de tiempo\n",
        "Los pronósticos se basan en un período de tiempo (t+1) avanzado al período de tiempo de las observaciones (t). Los datos reales del pronóstico de la variable dependiente no figuran en la muestra. \n",
        "\n",
        "Para predecir el indice de PM2.5 en las siguientes 24 horas, cambiamos los datos en 24 pasos de tiempo. Por ejemplo, predecir los proximos 7 días se desplazan los datos 7 * 24 pasos de tiempo.\n",
        "\n",
        "El conjunto de datos se vuelve a muestrear para tener 24 observaciones durante un dia, una cada hora.\n",
        "\n"
      ]
    },
    {
      "cell_type": "code",
      "metadata": {
        "id": "HWYmd1x0wRAb"
      },
      "source": [
        "dias = 1 # Cantidad de dias a predecir\n",
        "pasos = dias * 24 # Datos desplazados en peridods de tiempo equivalente a cantidad de horas"
      ],
      "execution_count": null,
      "outputs": []
    },
    {
      "cell_type": "markdown",
      "metadata": {
        "id": "cclyT5nOwRAd"
      },
      "source": [
        "Se crea un marco de datos con la señal objetivo de los datos diferidos en el tiempo en sentido negativo, porque Pandas mantiene las marcas de tiempo originales al remuestrearlos.\n"
      ]
    },
    {
      "cell_type": "code",
      "metadata": {
        "id": "fDL1eElXwRAe"
      },
      "source": [
        "df_targets = df[predictor_Y].shift(-pasos)"
      ],
      "execution_count": null,
      "outputs": []
    },
    {
      "cell_type": "code",
      "metadata": {
        "id": "FZFRWYJcwRAh",
        "outputId": "663747d5-2de8-46e7-e06c-3fb124896e8b",
        "colab": {
          "base_uri": "https://localhost:8080/",
          "height": 979
        }
      },
      "source": [
        "# Estos son las primeras 29 filas del marco de datos original para PM2.5\n",
        "df[predictor_Y].head(pasos + 5)"
      ],
      "execution_count": null,
      "outputs": [
        {
          "output_type": "execute_result",
          "data": {
            "text/html": [
              "<div>\n",
              "<style scoped>\n",
              "    .dataframe tbody tr th:only-of-type {\n",
              "        vertical-align: middle;\n",
              "    }\n",
              "\n",
              "    .dataframe tbody tr th {\n",
              "        vertical-align: top;\n",
              "    }\n",
              "\n",
              "    .dataframe thead th {\n",
              "        text-align: right;\n",
              "    }\n",
              "</style>\n",
              "<table border=\"1\" class=\"dataframe\">\n",
              "  <thead>\n",
              "    <tr style=\"text-align: right;\">\n",
              "      <th></th>\n",
              "      <th>PM25</th>\n",
              "    </tr>\n",
              "    <tr>\n",
              "      <th>FECHA</th>\n",
              "      <th></th>\n",
              "    </tr>\n",
              "  </thead>\n",
              "  <tbody>\n",
              "    <tr>\n",
              "      <th>2016-01-01 00:00:00</th>\n",
              "      <td>36.0</td>\n",
              "    </tr>\n",
              "    <tr>\n",
              "      <th>2016-01-01 01:00:00</th>\n",
              "      <td>70.0</td>\n",
              "    </tr>\n",
              "    <tr>\n",
              "      <th>2016-01-01 02:00:00</th>\n",
              "      <td>53.0</td>\n",
              "    </tr>\n",
              "    <tr>\n",
              "      <th>2016-01-01 03:00:00</th>\n",
              "      <td>52.0</td>\n",
              "    </tr>\n",
              "    <tr>\n",
              "      <th>2016-01-01 04:00:00</th>\n",
              "      <td>53.0</td>\n",
              "    </tr>\n",
              "    <tr>\n",
              "      <th>2016-01-01 05:00:00</th>\n",
              "      <td>46.0</td>\n",
              "    </tr>\n",
              "    <tr>\n",
              "      <th>2016-01-01 06:00:00</th>\n",
              "      <td>40.0</td>\n",
              "    </tr>\n",
              "    <tr>\n",
              "      <th>2016-01-01 07:00:00</th>\n",
              "      <td>34.0</td>\n",
              "    </tr>\n",
              "    <tr>\n",
              "      <th>2016-01-01 08:00:00</th>\n",
              "      <td>36.0</td>\n",
              "    </tr>\n",
              "    <tr>\n",
              "      <th>2016-01-01 09:00:00</th>\n",
              "      <td>20.0</td>\n",
              "    </tr>\n",
              "    <tr>\n",
              "      <th>2016-01-01 10:00:00</th>\n",
              "      <td>17.0</td>\n",
              "    </tr>\n",
              "    <tr>\n",
              "      <th>2016-01-01 11:00:00</th>\n",
              "      <td>13.0</td>\n",
              "    </tr>\n",
              "    <tr>\n",
              "      <th>2016-01-01 12:00:00</th>\n",
              "      <td>16.0</td>\n",
              "    </tr>\n",
              "    <tr>\n",
              "      <th>2016-01-01 13:00:00</th>\n",
              "      <td>15.0</td>\n",
              "    </tr>\n",
              "    <tr>\n",
              "      <th>2016-01-01 14:00:00</th>\n",
              "      <td>14.0</td>\n",
              "    </tr>\n",
              "    <tr>\n",
              "      <th>2016-01-01 15:00:00</th>\n",
              "      <td>24.0</td>\n",
              "    </tr>\n",
              "    <tr>\n",
              "      <th>2016-01-01 16:00:00</th>\n",
              "      <td>22.0</td>\n",
              "    </tr>\n",
              "    <tr>\n",
              "      <th>2016-01-01 17:00:00</th>\n",
              "      <td>24.0</td>\n",
              "    </tr>\n",
              "    <tr>\n",
              "      <th>2016-01-01 18:00:00</th>\n",
              "      <td>25.0</td>\n",
              "    </tr>\n",
              "    <tr>\n",
              "      <th>2016-01-01 19:00:00</th>\n",
              "      <td>27.0</td>\n",
              "    </tr>\n",
              "    <tr>\n",
              "      <th>2016-01-01 20:00:00</th>\n",
              "      <td>30.0</td>\n",
              "    </tr>\n",
              "    <tr>\n",
              "      <th>2016-01-01 21:00:00</th>\n",
              "      <td>31.0</td>\n",
              "    </tr>\n",
              "    <tr>\n",
              "      <th>2016-01-01 22:00:00</th>\n",
              "      <td>24.0</td>\n",
              "    </tr>\n",
              "    <tr>\n",
              "      <th>2016-01-01 23:00:00</th>\n",
              "      <td>26.0</td>\n",
              "    </tr>\n",
              "    <tr>\n",
              "      <th>2016-01-02 00:00:00</th>\n",
              "      <td>26.0</td>\n",
              "    </tr>\n",
              "    <tr>\n",
              "      <th>2016-01-02 01:00:00</th>\n",
              "      <td>25.0</td>\n",
              "    </tr>\n",
              "    <tr>\n",
              "      <th>2016-01-02 02:00:00</th>\n",
              "      <td>14.0</td>\n",
              "    </tr>\n",
              "    <tr>\n",
              "      <th>2016-01-02 03:00:00</th>\n",
              "      <td>26.0</td>\n",
              "    </tr>\n",
              "    <tr>\n",
              "      <th>2016-01-02 04:00:00</th>\n",
              "      <td>25.0</td>\n",
              "    </tr>\n",
              "  </tbody>\n",
              "</table>\n",
              "</div>"
            ],
            "text/plain": [
              "                     PM25\n",
              "FECHA                    \n",
              "2016-01-01 00:00:00  36.0\n",
              "2016-01-01 01:00:00  70.0\n",
              "2016-01-01 02:00:00  53.0\n",
              "2016-01-01 03:00:00  52.0\n",
              "2016-01-01 04:00:00  53.0\n",
              "2016-01-01 05:00:00  46.0\n",
              "2016-01-01 06:00:00  40.0\n",
              "2016-01-01 07:00:00  34.0\n",
              "2016-01-01 08:00:00  36.0\n",
              "2016-01-01 09:00:00  20.0\n",
              "2016-01-01 10:00:00  17.0\n",
              "2016-01-01 11:00:00  13.0\n",
              "2016-01-01 12:00:00  16.0\n",
              "2016-01-01 13:00:00  15.0\n",
              "2016-01-01 14:00:00  14.0\n",
              "2016-01-01 15:00:00  24.0\n",
              "2016-01-01 16:00:00  22.0\n",
              "2016-01-01 17:00:00  24.0\n",
              "2016-01-01 18:00:00  25.0\n",
              "2016-01-01 19:00:00  27.0\n",
              "2016-01-01 20:00:00  30.0\n",
              "2016-01-01 21:00:00  31.0\n",
              "2016-01-01 22:00:00  24.0\n",
              "2016-01-01 23:00:00  26.0\n",
              "2016-01-02 00:00:00  26.0\n",
              "2016-01-02 01:00:00  25.0\n",
              "2016-01-02 02:00:00  14.0\n",
              "2016-01-02 03:00:00  26.0\n",
              "2016-01-02 04:00:00  25.0"
            ]
          },
          "metadata": {
            "tags": []
          },
          "execution_count": 32
        }
      ]
    },
    {
      "cell_type": "markdown",
      "metadata": {
        "id": "y-XtJgR5wRAk"
      },
      "source": [
        "Despliegue de las primeras 5 filas del nuevo marco de datos objetivos diferido en el tiempo. \n",
        "Observar que el valor PM25 de las últimas 5 filas de los datos originales,  son iguales a los datos objetivos, excepto por la marca de tiempo ya que Pandas mantiene las marcas de tiempo originales."
      ]
    },
    {
      "cell_type": "code",
      "metadata": {
        "id": "zT_zX4-owRAl",
        "outputId": "1941c524-3b79-4d2b-aad2-b2d48342b8dc",
        "colab": {
          "base_uri": "https://localhost:8080/",
          "height": 235
        }
      },
      "source": [
        "df_targets.head(5)"
      ],
      "execution_count": null,
      "outputs": [
        {
          "output_type": "execute_result",
          "data": {
            "text/html": [
              "<div>\n",
              "<style scoped>\n",
              "    .dataframe tbody tr th:only-of-type {\n",
              "        vertical-align: middle;\n",
              "    }\n",
              "\n",
              "    .dataframe tbody tr th {\n",
              "        vertical-align: top;\n",
              "    }\n",
              "\n",
              "    .dataframe thead th {\n",
              "        text-align: right;\n",
              "    }\n",
              "</style>\n",
              "<table border=\"1\" class=\"dataframe\">\n",
              "  <thead>\n",
              "    <tr style=\"text-align: right;\">\n",
              "      <th></th>\n",
              "      <th>PM25</th>\n",
              "    </tr>\n",
              "    <tr>\n",
              "      <th>FECHA</th>\n",
              "      <th></th>\n",
              "    </tr>\n",
              "  </thead>\n",
              "  <tbody>\n",
              "    <tr>\n",
              "      <th>2016-01-01 00:00:00</th>\n",
              "      <td>26.0</td>\n",
              "    </tr>\n",
              "    <tr>\n",
              "      <th>2016-01-01 01:00:00</th>\n",
              "      <td>25.0</td>\n",
              "    </tr>\n",
              "    <tr>\n",
              "      <th>2016-01-01 02:00:00</th>\n",
              "      <td>14.0</td>\n",
              "    </tr>\n",
              "    <tr>\n",
              "      <th>2016-01-01 03:00:00</th>\n",
              "      <td>26.0</td>\n",
              "    </tr>\n",
              "    <tr>\n",
              "      <th>2016-01-01 04:00:00</th>\n",
              "      <td>25.0</td>\n",
              "    </tr>\n",
              "  </tbody>\n",
              "</table>\n",
              "</div>"
            ],
            "text/plain": [
              "                     PM25\n",
              "FECHA                    \n",
              "2016-01-01 00:00:00  26.0\n",
              "2016-01-01 01:00:00  25.0\n",
              "2016-01-01 02:00:00  14.0\n",
              "2016-01-01 03:00:00  26.0\n",
              "2016-01-01 04:00:00  25.0"
            ]
          },
          "metadata": {
            "tags": []
          },
          "execution_count": 33
        }
      ]
    },
    {
      "cell_type": "markdown",
      "metadata": {
        "id": "DNiWV1lfwRAn"
      },
      "source": [
        "\n",
        "Debido al desplazado hacia atrás en el marco de datos objetivo las últimas observaciones son \"NaN\", porque se ha tratando de cambiar los datos que no existen en el marco de datos original."
      ]
    },
    {
      "cell_type": "code",
      "metadata": {
        "id": "YdhSAPWjwRAn",
        "outputId": "bf625efd-7ac3-44ac-b770-c112638a2f8b",
        "colab": {
          "base_uri": "https://localhost:8080/",
          "height": 235
        }
      },
      "source": [
        "df_targets.tail()"
      ],
      "execution_count": null,
      "outputs": [
        {
          "output_type": "execute_result",
          "data": {
            "text/html": [
              "<div>\n",
              "<style scoped>\n",
              "    .dataframe tbody tr th:only-of-type {\n",
              "        vertical-align: middle;\n",
              "    }\n",
              "\n",
              "    .dataframe tbody tr th {\n",
              "        vertical-align: top;\n",
              "    }\n",
              "\n",
              "    .dataframe thead th {\n",
              "        text-align: right;\n",
              "    }\n",
              "</style>\n",
              "<table border=\"1\" class=\"dataframe\">\n",
              "  <thead>\n",
              "    <tr style=\"text-align: right;\">\n",
              "      <th></th>\n",
              "      <th>PM25</th>\n",
              "    </tr>\n",
              "    <tr>\n",
              "      <th>FECHA</th>\n",
              "      <th></th>\n",
              "    </tr>\n",
              "  </thead>\n",
              "  <tbody>\n",
              "    <tr>\n",
              "      <th>2019-12-31 19:00:00</th>\n",
              "      <td>NaN</td>\n",
              "    </tr>\n",
              "    <tr>\n",
              "      <th>2019-12-31 20:00:00</th>\n",
              "      <td>NaN</td>\n",
              "    </tr>\n",
              "    <tr>\n",
              "      <th>2019-12-31 21:00:00</th>\n",
              "      <td>NaN</td>\n",
              "    </tr>\n",
              "    <tr>\n",
              "      <th>2019-12-31 22:00:00</th>\n",
              "      <td>NaN</td>\n",
              "    </tr>\n",
              "    <tr>\n",
              "      <th>2019-12-31 23:00:00</th>\n",
              "      <td>NaN</td>\n",
              "    </tr>\n",
              "  </tbody>\n",
              "</table>\n",
              "</div>"
            ],
            "text/plain": [
              "                     PM25\n",
              "FECHA                    \n",
              "2019-12-31 19:00:00   NaN\n",
              "2019-12-31 20:00:00   NaN\n",
              "2019-12-31 21:00:00   NaN\n",
              "2019-12-31 22:00:00   NaN\n",
              "2019-12-31 23:00:00   NaN"
            ]
          },
          "metadata": {
            "tags": []
          },
          "execution_count": 34
        }
      ]
    },
    {
      "cell_type": "markdown",
      "metadata": {
        "id": "P0ROhUNlwRAp"
      },
      "source": [
        "Crea el vector de entrada a la red neuronal con las señales de los contaminantes"
      ]
    },
    {
      "cell_type": "code",
      "metadata": {
        "id": "mRT4DlMiwRAq"
      },
      "source": [
        "x_data = df.values[0:-pasos]"
      ],
      "execution_count": null,
      "outputs": []
    },
    {
      "cell_type": "markdown",
      "metadata": {
        "id": "GZaO5vktwRAu"
      },
      "source": [
        "Crea el vector de salida de la red neuronal para la predicción de PM2.5 "
      ]
    },
    {
      "cell_type": "code",
      "metadata": {
        "id": "Gii66neswRAv"
      },
      "source": [
        "y_data = df_targets.values[:-pasos]"
      ],
      "execution_count": null,
      "outputs": []
    },
    {
      "cell_type": "markdown",
      "metadata": {
        "id": "nHvYc9BZwRA-"
      },
      "source": [
        "Separar el 90% de los datos para el conjunto de entrenamiento y el resto para el conjunto de pruebas."
      ]
    },
    {
      "cell_type": "code",
      "metadata": {
        "id": "jPC8PEGWwRBC",
        "outputId": "8db48f07-b3a8-445e-fdb6-4966d04edee4",
        "colab": {
          "base_uri": "https://localhost:8080/",
          "height": 34
        }
      },
      "source": [
        "num_data = len(x_data)\n",
        "num_train = int(0.9 * num_data)\n",
        "num_test = num_data - num_train"
      ],
      "execution_count": null,
      "outputs": [
        {
          "output_type": "execute_result",
          "data": {
            "text/plain": [
              "31536"
            ]
          },
          "metadata": {
            "tags": []
          },
          "execution_count": 41
        }
      ]
    },
    {
      "cell_type": "markdown",
      "metadata": {
        "id": "T6ypDEctwRBI"
      },
      "source": [
        "Vector de señales de entrada para el conjunto de entrenamiento y conjunto de pruebas"
      ]
    },
    {
      "cell_type": "code",
      "metadata": {
        "id": "9UPCVD8swRBJ",
        "outputId": "2a42be19-31f9-437b-c3a3-5c715c4928fb",
        "colab": {
          "base_uri": "https://localhost:8080/",
          "height": 34
        }
      },
      "source": [
        "x_train = x_data[0:num_train]\n",
        "x_test = x_data[num_train:]"
      ],
      "execution_count": null,
      "outputs": [
        {
          "output_type": "execute_result",
          "data": {
            "text/plain": [
              "35040"
            ]
          },
          "metadata": {
            "tags": []
          },
          "execution_count": 43
        }
      ]
    },
    {
      "cell_type": "markdown",
      "metadata": {
        "id": "FyXnbYALwRBM"
      },
      "source": [
        "Vector de señales de salida para el conjunto de entrenamiento y conjunto de pruebas"
      ]
    },
    {
      "cell_type": "code",
      "metadata": {
        "id": "vkAWUEhQwRBM",
        "outputId": "ceeef151-93ed-4a87-9385-c30fe30e55db",
        "colab": {
          "base_uri": "https://localhost:8080/",
          "height": 34
        }
      },
      "source": [
        "y_train = y_data[0:num_train]\n",
        "y_test = y_data[num_train:]"
      ],
      "execution_count": null,
      "outputs": [
        {
          "output_type": "execute_result",
          "data": {
            "text/plain": [
              "35040"
            ]
          },
          "metadata": {
            "tags": []
          },
          "execution_count": 44
        }
      ]
    },
    {
      "cell_type": "markdown",
      "metadata": {
        "id": "tt-AR47DwRBO"
      },
      "source": [
        "Asignación de la cantidad de señales de entrada y señales de salidad para el generador de lotes "
      ]
    },
    {
      "cell_type": "code",
      "metadata": {
        "id": "BDUJPsiYwRBP",
        "outputId": "aaf2e3b3-46c2-4f25-9e7a-9579ffb9a857",
        "colab": {
          "base_uri": "https://localhost:8080/",
          "height": 34
        }
      },
      "source": [
        "num_x_signals = x_data.shape[1]\n",
        "num_y_signals = y_data.shape[1]"
      ],
      "execution_count": null,
      "outputs": [
        {
          "output_type": "execute_result",
          "data": {
            "text/plain": [
              "7"
            ]
          },
          "metadata": {
            "tags": []
          },
          "execution_count": 45
        }
      ]
    },
    {
      "cell_type": "markdown",
      "metadata": {
        "id": "mOWINY61wRBU"
      },
      "source": [
        "Normalizar o escalar los datos a valores entre -1 y 1\n"
      ]
    },
    {
      "cell_type": "code",
      "metadata": {
        "id": "Y-lV4h0DwRBY"
      },
      "source": [
        "# Escalado en las señales de entrada tanto en el conjunto de entrenamiento como en el conjunto de pruebas\n",
        "x_scaler = MinMaxScaler() \n",
        "x_train_scaled = x_scaler.fit_transform(x_train)\n",
        "x_test_scaled = x_scaler.transform(x_test)       \n",
        "# Escalado en las señal de salida tanto en el conjunto de entrenamiento como en el conjunto de pruebas\n",
        "y_scaler = MinMaxScaler()\n",
        "y_train_scaled = y_scaler.fit_transform(y_train)\n",
        "y_test_scaled = y_scaler.transform(y_test)"
      ],
      "execution_count": null,
      "outputs": []
    },
    {
      "cell_type": "markdown",
      "metadata": {
        "id": "yyos-SB3wRBn"
      },
      "source": [
        "Los datos se ha preparado como dos matrices numéricas bidimensionales para 31536 observaciones, una con 7 señales de entrada y otra con una señal de salida.\n"
      ]
    },
    {
      "cell_type": "markdown",
      "metadata": {
        "id": "gaWeGfwUwRBq"
      },
      "source": [
        "Generarción de lotes de subsecuencias más cortas seleccionadas al azar de los datos de entrenamiento. \n"
      ]
    },
    {
      "cell_type": "code",
      "metadata": {
        "id": "2mg0QE7SwRBq"
      },
      "source": [
        "def batch_generator(batch_size, sequence_length):\n",
        "    \"\"\"\n",
        "    Generator function for creating random batches of training-data.\n",
        "    \"\"\"\n",
        "\n",
        "    # Infinite loop.\n",
        "    while True:\n",
        "        # Allocate a new array for the batch of input-signals.\n",
        "        x_shape = (batch_size, sequence_length, num_x_signals)\n",
        "        x_batch = np.zeros(shape=x_shape, dtype=np.float16)\n",
        "\n",
        "        # Allocate a new array for the batch of output-signals.\n",
        "        y_shape = (batch_size, sequence_length, num_y_signals)\n",
        "        y_batch = np.zeros(shape=y_shape, dtype=np.float16)\n",
        "\n",
        "        # Fill the batch with random sequences of data.\n",
        "        for i in range(batch_size):\n",
        "            # Get a random start-index.\n",
        "            # This points somewhere into the training-data.\n",
        "            idx = np.random.randint(num_train - sequence_length)\n",
        "            \n",
        "            # Copy the sequences of data starting at this index.\n",
        "            x_batch[i] = x_train_scaled[idx:idx+sequence_length]\n",
        "            y_batch[i] = y_train_scaled[idx:idx+sequence_length]\n",
        "        \n",
        "        yield (x_batch, y_batch)"
      ],
      "execution_count": null,
      "outputs": []
    },
    {
      "cell_type": "code",
      "metadata": {
        "id": "BkW-VocZwRBu"
      },
      "source": [
        "#C7 Ajuste del tamaño de lote para la carga de trabajo.\n",
        "batch_size = 256  # Mantiene la GPU cerca del 100% de computación cloud\n",
        "#batch_size = 50  # Tamaño para el uso de CPU de PC\n"
      ],
      "execution_count": null,
      "outputs": []
    },
    {
      "cell_type": "code",
      "metadata": {
        "id": "end_6zFxwRBw",
        "outputId": "593148f3-80c3-4175-959b-6ffc8b699c78",
        "colab": {
          "base_uri": "https://localhost:8080/",
          "height": 34
        }
      },
      "source": [
        "#C8 Ajuste de la longitud de secuencia, Un intervalo de tiempo corresponde a una hora, 24 x 7 intervalos de tiempo corresponden a una semana\n",
        "sequence_length = 24 * 7 * 4  # 4 Semanas\n"
      ],
      "execution_count": null,
      "outputs": [
        {
          "output_type": "execute_result",
          "data": {
            "text/plain": [
              "672"
            ]
          },
          "metadata": {
            "tags": []
          },
          "execution_count": 56
        }
      ]
    },
    {
      "cell_type": "code",
      "metadata": {
        "id": "yMoqd33UwRBy"
      },
      "source": [
        "#C9 Función para generar los lotes de trabajo.\n",
        "generator = batch_generator(batch_size=batch_size,\n",
        "                            sequence_length=sequence_length)"
      ],
      "execution_count": null,
      "outputs": []
    },
    {
      "cell_type": "code",
      "metadata": {
        "id": "3ZwxzUzNwRB1"
      },
      "source": [
        "#C10 Generar lotes.\n",
        "x_batch, y_batch = next(generator)"
      ],
      "execution_count": null,
      "outputs": []
    },
    {
      "cell_type": "code",
      "metadata": {
        "id": "tIX9lSLmwRB3",
        "outputId": "09b89c83-0fda-4ea2-9b48-b80ca5f41ccb",
        "colab": {
          "base_uri": "https://localhost:8080/",
          "height": 51
        }
      },
      "source": [
        "#C11 Se ha producido un lote aleatorio de 256 secuencias, cada secuencia tiene 672 observaciones y cada observación tiene 7 señales de entrada y 1 señal de salida. \n",
        "print(x_batch.shape)\n",
        "print(y_batch.shape)"
      ],
      "execution_count": null,
      "outputs": [
        {
          "output_type": "stream",
          "text": [
            "(256, 672, 7)\n",
            "(256, 672, 1)\n"
          ],
          "name": "stdout"
        }
      ]
    },
    {
      "cell_type": "code",
      "metadata": {
        "id": "IjfLyOohwRB5",
        "outputId": "cbd25b0a-7029-4681-f3d0-f602364a409e",
        "colab": {
          "base_uri": "https://localhost:8080/",
          "height": 282
        }
      },
      "source": [
        "#C12 Trazado de las señales de entrada.\n",
        "batch = 0   \n",
        "signal = 0  \n",
        "seq = x_batch[batch, :, signal]\n",
        "plt.plot(seq)"
      ],
      "execution_count": null,
      "outputs": [
        {
          "output_type": "execute_result",
          "data": {
            "text/plain": [
              "[<matplotlib.lines.Line2D at 0x7f1a61e4b630>]"
            ]
          },
          "metadata": {
            "tags": []
          },
          "execution_count": 60
        },
        {
          "output_type": "display_data",
          "data": {
            "image/png": "[encoded data removed]",
            "text/plain": [
              "<Figure size 432x288 with 1 Axes>"
            ]
          },
          "metadata": {
            "tags": [],
            "needs_background": "light"
          }
        }
      ]
    },
    {
      "cell_type": "code",
      "metadata": {
        "id": "TdZaR5fYwRB7",
        "outputId": "b4606bba-0682-429d-fd9c-20de0e02d911",
        "colab": {
          "base_uri": "https://localhost:8080/",
          "height": 282
        }
      },
      "source": [
        "#C13 Trazado de la señal de salida que queremos que el modelo aprenda a predecir dadas las señales de entrada.\n",
        "seq = y_batch[batch, :, signal]\n",
        "plt.plot(seq)"
      ],
      "execution_count": null,
      "outputs": [
        {
          "output_type": "execute_result",
          "data": {
            "text/plain": [
              "[<matplotlib.lines.Line2D at 0x7f1a61d2dcc0>]"
            ]
          },
          "metadata": {
            "tags": []
          },
          "execution_count": 61
        },
        {
          "output_type": "display_data",
          "data": {
            "image/png": "[encoded data removed]",
            "text/plain": [
              "<Figure size 432x288 with 1 Axes>"
            ]
          },
          "metadata": {
            "tags": [],
            "needs_background": "light"
          }
        }
      ]
    },
    {
      "cell_type": "code",
      "metadata": {
        "id": "rHFe01EYwRB-"
      },
      "source": [
        "#C14 Conformar los datos de validacion en una matriz ampliada \n",
        "validation_data = (np.expand_dims(x_test_scaled, axis=0),\n",
        "                   np.expand_dims(y_test_scaled, axis=0))"
      ],
      "execution_count": null,
      "outputs": []
    },
    {
      "cell_type": "code",
      "metadata": {
        "id": "Kg4FZJXQwRB_"
      },
      "source": [
        "#C15 Crear la red neuronal recurrente (RNN)\n",
        "model = Sequential()"
      ],
      "execution_count": null,
      "outputs": []
    },
    {
      "cell_type": "code",
      "metadata": {
        "id": "zA95JM2EwRCD"
      },
      "source": [
        "#C16 Agregar una unidad recurrente cerrada (GRU) a la red, con 512 salidas para cada paso de tiempo en la secuencia.\n",
        "\"\"\"En la primera capa del modelo la forma de su entrada es un lote de secuencias de longitud arbitraria, donde cada observación tiene un número de señales de entrada (num_x_signals)\n",
        "según la Api de Keras.\"\"\"\n",
        "model.add(GRU(units=512,\n",
        "              return_sequences=True,\n",
        "              input_shape=(None, num_x_signals,)))"
      ],
      "execution_count": null,
      "outputs": []
    },
    {
      "cell_type": "code",
      "metadata": {
        "id": "O6PxoRV1wRCF"
      },
      "source": [
        "#C17 Para predecir 1 señal de salida, agregamos una capa completamente conectada (o densa)\n",
        "# utilizando la función de activación Sigmoid, que aplana la salida para que esté entre 0 y 1. \n",
        "model.add(Dense(num_y_signals, activation='sigmoid'))"
      ],
      "execution_count": null,
      "outputs": []
    },
    {
      "cell_type": "code",
      "metadata": {
        "id": "uoRbV5wzwRCH"
      },
      "source": [
        "#C18 \n",
        "# Genera tensores con distribución uniforme.\n",
        "# usar una función de activación lineal en la salida\n",
        "if False:\n",
        "    from tensorflow.python.keras.initializers import RandomUniform\n",
        "\n",
        "    # Maybe use lower init-ranges.\n",
        "    init = RandomUniform(minval=-0.05, maxval=0.05)\n",
        "\n",
        "    model.add(Dense(num_y_signals,\n",
        "                    activation='linear',\n",
        "                    kernel_initializer=init))"
      ],
      "execution_count": null,
      "outputs": []
    },
    {
      "cell_type": "code",
      "metadata": {
        "id": "eTm0P39wwRCR"
      },
      "source": [
        "#C19 Establecer el error cuadrático medio (MSE) como la función de pérdida.\n",
        "# Mide qué tan cerca esta la salida del modelo con las señales de salida reales.\n",
        "# al comienzo de una secuencia, el modelo solo ha visto señales de entrada durante unos pocos pasos de tiempo, por lo que su salida generada puede ser muy inexacta\n",
        "# con un 'período de calentamiento' de 50 pasos de tiempo donde no usamos su precisión en la función de pérdida, para mejorar la precisión para pasos de tiempo posteriores.\n",
        "warmup_steps = 50\n",
        "def loss_mse_warmup(y_true, y_pred):\n",
        "    \"\"\"\n",
        "    Calculate the Mean Squared Error between y_true and y_pred,\n",
        "    but ignore the beginning \"warmup\" part of the sequences.\n",
        "    \n",
        "    y_true is the desired output.\n",
        "    y_pred is the model's output.\n",
        "    \"\"\"\n",
        "\n",
        "    # The shape of both input tensors are:\n",
        "    # [batch_size, sequence_length, num_y_signals].\n",
        "\n",
        "    # Ignore the \"warmup\" parts of the sequences\n",
        "    # by taking slices of the tensors.\n",
        "    y_true_slice = y_true[:, warmup_steps:, :]\n",
        "    y_pred_slice = y_pred[:, warmup_steps:, :]\n",
        "\n",
        "    # These sliced tensors both have this shape:\n",
        "    # [batch_size, sequence_length - warmup_steps, num_y_signals]\n",
        "\n",
        "    # Calculat the Mean Squared Error and use it as loss.\n",
        "    mse = mean(square(y_true_slice - y_pred_slice))\n",
        "    \n",
        "    return mse"
      ],
      "execution_count": null,
      "outputs": []
    },
    {
      "cell_type": "code",
      "metadata": {
        "id": "iLuJLH2wwRCS"
      },
      "source": [
        "#C20 Establecer la tasa de aprendizaje inicial para el optimizador adaptativo\n",
        "# Root Mean Square Propagation (RMSprop).\n",
        "optimizer = RMSprop(lr=1e-3)"
      ],
      "execution_count": null,
      "outputs": []
    },
    {
      "cell_type": "code",
      "metadata": {
        "id": "Deoxb7mYwRCU"
      },
      "source": [
        "#C21 Compilación del modelo preparandolo para el entrenamiento. \n",
        "model.compile(loss=loss_mse_warmup, optimizer=optimizer)"
      ],
      "execution_count": null,
      "outputs": []
    },
    {
      "cell_type": "code",
      "metadata": {
        "id": "SIxg7hrBwRCX",
        "outputId": "ac1f3c53-637d-45a9-d0db-43d5b15b39e9",
        "colab": {
          "base_uri": "https://localhost:8080/",
          "height": 221
        }
      },
      "source": [
        "#C22 El modelo consta de dos capas, a la salida una señal objetivo de predicción.\n",
        "model.summary()"
      ],
      "execution_count": null,
      "outputs": [
        {
          "output_type": "stream",
          "text": [
            "Model: \"sequential\"\n",
            "_________________________________________________________________\n",
            "Layer (type)                 Output Shape              Param #   \n",
            "=================================================================\n",
            "gru (GRU)                    (None, None, 512)         800256    \n",
            "_________________________________________________________________\n",
            "dense (Dense)                (None, None, 1)           513       \n",
            "=================================================================\n",
            "Total params: 800,769\n",
            "Trainable params: 800,769\n",
            "Non-trainable params: 0\n",
            "_________________________________________________________________\n"
          ],
          "name": "stdout"
        }
      ]
    },
    {
      "cell_type": "code",
      "metadata": {
        "id": "2tKktX-jigc8",
        "outputId": "719f4dd3-ee19-4ec6-9db5-511c59f18de6",
        "colab": {
          "base_uri": "https://localhost:8080/",
          "height": 312
        }
      },
      "source": [
        "#C22b\n",
        "from tensorflow import keras\n",
        "keras.utils.plot_model(model, \"Forma_RNN_shape_info.png\", show_shapes=True)"
      ],
      "execution_count": null,
      "outputs": [
        {
          "output_type": "execute_result",
          "data": {
            "image/png": "[encoded data removed]",
            "text/plain": [
              "<IPython.core.display.Image object>"
            ]
          },
          "metadata": {
            "tags": []
          },
          "execution_count": 91
        }
      ]
    },
    {
      "cell_type": "code",
      "metadata": {
        "id": "1W-sEAvKwRCZ"
      },
      "source": [
        "#C23 Funciones de devolución de llamada\n",
        "# Durante el entrenamiento se guardan puntos de control y registro del progreso en TensorBoard.\n",
        "path_checkpoint = '23_checkpoint.keras'\n",
        "callback_checkpoint = ModelCheckpoint(filepath=path_checkpoint,\n",
        "                                      monitor='val_loss',\n",
        "                                      verbose=1,\n",
        "                                      save_weights_only=True,\n",
        "                                      save_best_only=True)"
      ],
      "execution_count": null,
      "outputs": []
    },
    {
      "cell_type": "code",
      "metadata": {
        "id": "rM4BtHDUwRCd"
      },
      "source": [
        "#C24 Devolución de parada prematura para evita el sobreentrenamiento.\n",
        "callback_early_stopping = EarlyStopping(monitor='val_loss',\n",
        "                                        patience=5, verbose=1)"
      ],
      "execution_count": null,
      "outputs": []
    },
    {
      "cell_type": "code",
      "metadata": {
        "id": "YBhATk4SwRCg"
      },
      "source": [
        "#C25 Devolución de llamada para escribir el registro de TensorBoard\n",
        "callback_tensorboard = TensorBoard(log_dir='./23_logs/',\n",
        "                                   histogram_freq=0,\n",
        "                                   write_graph=False)"
      ],
      "execution_count": null,
      "outputs": []
    },
    {
      "cell_type": "code",
      "metadata": {
        "id": "UwlkQKxrwRCj"
      },
      "source": [
        "#C26 Devolución de llamada que reduce la tasa de aprendizaje para el optimizador si la pérdida de validación no ha mejorado desde la última época (patience = 0)\n",
        "callback_reduce_lr = ReduceLROnPlateau(monitor='val_loss',\n",
        "                                       factor=0.1,\n",
        "                                       min_lr=1e-4,\n",
        "                                       patience=0,\n",
        "                                       verbose=1)"
      ],
      "execution_count": null,
      "outputs": []
    },
    {
      "cell_type": "code",
      "metadata": {
        "id": "uIMx__EUwRCl"
      },
      "source": [
        "#C26b Todas las devoluciones de llamada\n",
        "callbacks = [callback_early_stopping,\n",
        "             callback_checkpoint,\n",
        "             callback_tensorboard,\n",
        "             callback_reduce_lr]"
      ],
      "execution_count": null,
      "outputs": []
    },
    {
      "cell_type": "code",
      "metadata": {
        "id": "9VaPp2e0wRCn",
        "outputId": "957c26b0-c637-4f94-c5a4-50fea6e1b8c6",
        "colab": {
          "base_uri": "https://localhost:8080/",
          "height": 1000
        }
      },
      "source": [
        "#C27 Entrenamiento de la red neuronal recurrente\n",
        "# por cada pasos de epoca se procesan pequeños lotes generados aleatoriamente del conjunto de datos de entrenamiento.\n",
        "%%time \n",
        "epocas_p=20  #5\n",
        "pasos_epoca_p=100 #10\n",
        "model.fit(x=generator,\n",
        "          epochs=epocas_p,\n",
        "          steps_per_epoch=pasos_epoca_p,\n",
        "          validation_data=validation_data,\n",
        "          callbacks=callbacks)"
      ],
      "execution_count": null,
      "outputs": [
        {
          "output_type": "stream",
          "text": [
            "Epoch 1/20\n",
            "  1/100 [..............................] - ETA: 0s - loss: 0.1273WARNING:tensorflow:From /usr/local/lib/python3.6/dist-packages/tensorflow/python/ops/summary_ops_v2.py:1277: stop (from tensorflow.python.eager.profiler) is deprecated and will be removed after 2020-07-01.\n",
            "Instructions for updating:\n",
            "use `tf.profiler.experimental.stop` instead.\n",
            "100/100 [==============================] - ETA: 0s - loss: 0.0094\n",
            "Epoch 00001: val_loss improved from inf to 0.00473, saving model to 23_checkpoint.keras\n",
            "100/100 [==============================] - 34s 345ms/step - loss: 0.0094 - val_loss: 0.0047\n",
            "Epoch 2/20\n",
            "100/100 [==============================] - ETA: 0s - loss: 0.0053\n",
            "Epoch 00002: val_loss improved from 0.00473 to 0.00307, saving model to 23_checkpoint.keras\n",
            "100/100 [==============================] - 36s 356ms/step - loss: 0.0053 - val_loss: 0.0031\n",
            "Epoch 3/20\n",
            "100/100 [==============================] - ETA: 0s - loss: 0.0047\n",
            "Epoch 00003: val_loss did not improve from 0.00307\n",
            "\n",
            "Epoch 00003: ReduceLROnPlateau reducing learning rate to 0.00010000000474974513.\n",
            "100/100 [==============================] - 38s 376ms/step - loss: 0.0047 - val_loss: 0.0034\n",
            "Epoch 4/20\n",
            "100/100 [==============================] - ETA: 0s - loss: 0.0039\n",
            "Epoch 00004: val_loss improved from 0.00307 to 0.00253, saving model to 23_checkpoint.keras\n",
            "100/100 [==============================] - 38s 376ms/step - loss: 0.0039 - val_loss: 0.0025\n",
            "Epoch 5/20\n",
            "100/100 [==============================] - ETA: 0s - loss: 0.0038\n",
            "Epoch 00005: val_loss improved from 0.00253 to 0.00252, saving model to 23_checkpoint.keras\n",
            "\n",
            "Epoch 00005: ReduceLROnPlateau reducing learning rate to 0.0001.\n",
            "100/100 [==============================] - 37s 373ms/step - loss: 0.0038 - val_loss: 0.0025\n",
            "Epoch 6/20\n",
            "100/100 [==============================] - ETA: 0s - loss: 0.0037\n",
            "Epoch 00006: val_loss improved from 0.00252 to 0.00212, saving model to 23_checkpoint.keras\n",
            "100/100 [==============================] - 38s 376ms/step - loss: 0.0037 - val_loss: 0.0021\n",
            "Epoch 7/20\n",
            "100/100 [==============================] - ETA: 0s - loss: 0.0037\n",
            "Epoch 00007: val_loss improved from 0.00212 to 0.00199, saving model to 23_checkpoint.keras\n",
            "100/100 [==============================] - 38s 376ms/step - loss: 0.0037 - val_loss: 0.0020\n",
            "Epoch 8/20\n",
            "100/100 [==============================] - ETA: 0s - loss: 0.0037\n",
            "Epoch 00008: val_loss improved from 0.00199 to 0.00197, saving model to 23_checkpoint.keras\n",
            "100/100 [==============================] - 38s 377ms/step - loss: 0.0037 - val_loss: 0.0020\n",
            "Epoch 9/20\n",
            "100/100 [==============================] - ETA: 0s - loss: 0.0036\n",
            "Epoch 00009: val_loss did not improve from 0.00197\n",
            "100/100 [==============================] - 37s 375ms/step - loss: 0.0036 - val_loss: 0.0022\n",
            "Epoch 10/20\n",
            "100/100 [==============================] - ETA: 0s - loss: 0.0036\n",
            "Epoch 00010: val_loss improved from 0.00197 to 0.00196, saving model to 23_checkpoint.keras\n",
            "100/100 [==============================] - 38s 378ms/step - loss: 0.0036 - val_loss: 0.0020\n",
            "Epoch 11/20\n",
            "100/100 [==============================] - ETA: 0s - loss: 0.0036\n",
            "Epoch 00011: val_loss did not improve from 0.00196\n",
            "100/100 [==============================] - 37s 375ms/step - loss: 0.0036 - val_loss: 0.0020\n",
            "Epoch 12/20\n",
            "100/100 [==============================] - ETA: 0s - loss: 0.0036\n",
            "Epoch 00012: val_loss did not improve from 0.00196\n",
            "100/100 [==============================] - 38s 376ms/step - loss: 0.0036 - val_loss: 0.0020\n",
            "Epoch 13/20\n",
            "100/100 [==============================] - ETA: 0s - loss: 0.0036\n",
            "Epoch 00013: val_loss did not improve from 0.00196\n",
            "100/100 [==============================] - 38s 376ms/step - loss: 0.0036 - val_loss: 0.0020\n",
            "Epoch 14/20\n",
            "100/100 [==============================] - ETA: 0s - loss: 0.0036\n",
            "Epoch 00014: val_loss did not improve from 0.00196\n",
            "100/100 [==============================] - 38s 376ms/step - loss: 0.0036 - val_loss: 0.0020\n",
            "Epoch 15/20\n",
            "100/100 [==============================] - ETA: 0s - loss: 0.0035\n",
            "Epoch 00015: val_loss did not improve from 0.00196\n",
            "100/100 [==============================] - 37s 375ms/step - loss: 0.0035 - val_loss: 0.0020\n",
            "Epoch 00015: early stopping\n",
            "CPU times: user 5min 20s, sys: 2min 27s, total: 7min 48s\n",
            "Wall time: 9min 31s\n"
          ],
          "name": "stdout"
        }
      ]
    },
    {
      "cell_type": "code",
      "metadata": {
        "id": "wnbv7g8GwRCp"
      },
      "source": [
        "#C28 Recargar el último punto de control guardado del mejor rendimiento en el conjunto de prueba. \n",
        "# Si hubiera una parada temprana al entrenar el modelo, si el rendimiento del modelo haya empeorado en el conjunto de prueba durante varias épocas antes de que se detuviera el entrenamiento\n",
        "try:\n",
        "    model.load_weights(path_checkpoint)\n",
        "except Exception as error:\n",
        "    print(\"Error trying to load checkpoint.\")\n",
        "    print(error)"
      ],
      "execution_count": null,
      "outputs": []
    },
    {
      "cell_type": "code",
      "metadata": {
        "id": "hNE2PyWPwRCq",
        "outputId": "4104cefe-26ca-4384-ce49-664cbced1895",
        "colab": {
          "base_uri": "https://localhost:8080/",
          "height": 34
        }
      },
      "source": [
        "#C29 Evaluación del rendimiento del moelo en el conjunto de prueba\n",
        "# SE expande la dimensionalidad de la matriz para crea un lote con la secuecnia se la serie de tiempo\n",
        "x=np.expand_dims(x_test_scaled, axis=0)\n",
        "y=np.expand_dims(y_test_scaled, axis=0)\n",
        "result = model.evaluate(x, y)"
      ],
      "execution_count": null,
      "outputs": [
        {
          "output_type": "stream",
          "text": [
            "1/1 [==============================] - 0s 1ms/step - loss: 0.0020\n"
          ],
          "name": "stdout"
        }
      ]
    },
    {
      "cell_type": "code",
      "metadata": {
        "id": "zK1kG24bwRCs",
        "outputId": "8d7335e5-d7ce-44c7-9620-e7fbf25ef645",
        "colab": {
          "base_uri": "https://localhost:8080/",
          "height": 34
        }
      },
      "source": [
        "print(\"loss (test-set):\", result)"
      ],
      "execution_count": null,
      "outputs": [
        {
          "output_type": "stream",
          "text": [
            "loss (test-set): 0.001958788139745593\n"
          ],
          "name": "stdout"
        }
      ]
    },
    {
      "cell_type": "code",
      "metadata": {
        "id": "J26WhYZezaJE",
        "outputId": "b485fc6e-d409-4a11-a8f9-0db87bfd378f",
        "colab": {
          "base_uri": "https://localhost:8080/",
          "height": 34
        }
      },
      "source": [
        "\n",
        "print(model.metrics_names) \n"
      ],
      "execution_count": null,
      "outputs": [
        {
          "output_type": "stream",
          "text": [
            "['loss']\n"
          ],
          "name": "stdout"
        }
      ]
    },
    {
      "cell_type": "code",
      "metadata": {
        "id": "T2ViOjeawRCt"
      },
      "source": [
        "# # Si tiene varias métricas, puede usar esta en su lugar.\n",
        "if False:\n",
        "    for res, metric in zip(result, model.metrics_names):\n",
        "        print(\"{0}: {1:.3e}\".format(metric, res))"
      ],
      "execution_count": null,
      "outputs": []
    },
    {
      "cell_type": "code",
      "metadata": {
        "id": "DGeIvgyOwRCw"
      },
      "source": [
        "#C30 Generar predicciones\n",
        "# y trazar las señales de salida predichas. \n",
        "def plot_comparison(start_idx, length=100, train=True):\n",
        "    \"\"\"\n",
        "    Trazado de las señales de salida predichas y verdaderas.\n",
        "    \n",
        "    :param start_idx: Start-index for the time-series.\n",
        "    :param length: Sequence-length to process and plot.\n",
        "    :param train: Boolean whether to use training- or test-set.\n",
        "    \"\"\"\n",
        "    \n",
        "    if train:\n",
        "        # Use training-data.\n",
        "        x = x_train_scaled\n",
        "        y_true = y_train\n",
        "        Data_Label = 'Train data set'\n",
        "    else:\n",
        "        # Use test-data.\n",
        "        x = x_test_scaled\n",
        "        y_true = y_test\n",
        "        Data_Label = 'Test data set'\n",
        "    \n",
        "    # End-index for the sequences.\n",
        "    end_idx = start_idx + length\n",
        "    \n",
        "    # Select the sequences from the given start-index and\n",
        "    # of the given length.\n",
        "    x = x[start_idx:end_idx]\n",
        "    y_true = y_true[start_idx:end_idx]\n",
        "    \n",
        "    # Input-signals for the model.\n",
        "    x = np.expand_dims(x, axis=0)\n",
        "\n",
        "    # Use the model to predict the output-signals.\n",
        "    y_pred = model.predict(x)\n",
        "    \n",
        "    # The output of the model is between 0 and 1.\n",
        "    # Do an inverse map to get it back to the scale\n",
        "    # of the original data-set.\n",
        "    y_pred_rescaled = y_scaler.inverse_transform(y_pred[0])\n",
        "    \n",
        "    # For each output-signal.\n",
        "    for signal in range(len(target_names)):\n",
        "        # Get the output-signal predicted by the model.\n",
        "        signal_pred = y_pred_rescaled[:, signal]\n",
        "        \n",
        "        # Get the true output-signal from the data-set.\n",
        "        signal_true = y_true[:, signal]\n",
        "\n",
        "        # Make the plotting-canvas bigger.\n",
        "        plt.figure(figsize=(15,5))\n",
        "        \n",
        "        # Plot and compare the two signals.\n",
        "        plt.plot(signal_true, label=Data_Label)\n",
        "        plt.plot(signal_pred, label='pred')\n",
        "        \n",
        "        # Plot grey box for warmup-period.\n",
        "        p = plt.axvspan(0, warmup_steps, facecolor='black', alpha=0.15)\n",
        "        \n",
        "        # Plot labels etc.\n",
        "        plt.ylabel(target_names[signal])\n",
        "        plt.legend()\n",
        "        plt.show()"
      ],
      "execution_count": null,
      "outputs": []
    },
    {
      "cell_type": "code",
      "metadata": {
        "scrolled": true,
        "id": "CLyFYFlewRCy",
        "outputId": "c82464c9-0cfb-4df1-b147-e6c95134388a",
        "colab": {
          "base_uri": "https://localhost:8080/",
          "height": 320
        }
      },
      "source": [
        "#C31 Trazado comparativo de señales de salida predichas y datos de entrenamiento. \n",
        "plot_comparison(start_idx=10000, length=100, train=True)"
      ],
      "execution_count": null,
      "outputs": [
        {
          "output_type": "display_data",
          "data": {
            "image/png": "[encoded data removed]",
            "text/plain": [
              "<Figure size 1080x360 with 1 Axes>"
            ]
          },
          "metadata": {
            "tags": [],
            "needs_background": "light"
          }
        }
      ]
    },
    {
      "cell_type": "code",
      "metadata": {
        "id": "AaudQ6qswRC-",
        "outputId": "f77434b1-f8bf-4c94-8bc7-00a756eacf8d",
        "colab": {
          "base_uri": "https://localhost:8080/",
          "height": 320
        }
      },
      "source": [
        "#C32 Trazado comparativo de señales de salida predichas y datos de pruebas. \n",
        "# El modelo no ha visto estos datos durante el entrenamiento.\n",
        "# La predicción del material particulado 2.5μm se muestra hacia la tendencia y la estacionalidad de los valores verdaderos del conjunto de datos de prueba, prudentemente bien.\n",
        "plot_comparison(start_idx=200, length=1000, train=False)"
      ],
      "execution_count": null,
      "outputs": [
        {
          "output_type": "display_data",
          "data": {
            "image/png": "[encoded data removed]",
            "text/plain": [
              "<Figure size 1080x360 with 1 Axes>"
            ]
          },
          "metadata": {
            "tags": [],
            "needs_background": "light"
          }
        }
      ]
    }
  ]
}